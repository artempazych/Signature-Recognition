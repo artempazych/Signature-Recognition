{
 "cells": [
  {
   "cell_type": "code",
   "execution_count": 1,
   "metadata": {},
   "outputs": [],
   "source": [
    "import shutil\n",
    "import os"
   ]
  },
  {
   "cell_type": "code",
   "execution_count": 2,
   "metadata": {},
   "outputs": [],
   "source": [
    "data_dir = 'C:/Users/User/Desktop/Desktop/SIGNATURE/data/train'\n",
    "train_dir = 'train'\n",
    "val_dir = 'val'\n",
    "test_dir = 'test'\n",
    "test_data_portion = 0.15\n",
    "val_data_portion = 0.15\n",
    "nb_images = 993"
   ]
  },
  {
   "cell_type": "code",
   "execution_count": 3,
   "metadata": {},
   "outputs": [],
   "source": [
    "def create_directory(dir_name):\n",
    "    if os.path.exists(dir_name):\n",
    "        shutil.rmtree(dir_name)\n",
    "    os.makedirs(dir_name)\n",
    "    os.makedirs(os.path.join(dir_name, \"Ivanov\"))\n",
    "    os.makedirs(os.path.join(dir_name, \"Petrov\"))\n",
    "    os.makedirs(os.path.join(dir_name, \"Sergeev\"))"
   ]
  },
  {
   "cell_type": "code",
   "execution_count": 4,
   "metadata": {},
   "outputs": [],
   "source": [
    "create_directory(train_dir)\n",
    "create_directory(val_dir)\n",
    "create_directory(test_dir)"
   ]
  },
  {
   "cell_type": "code",
   "execution_count": null,
   "metadata": {},
   "outputs": [],
   "source": [
    "def copy_images(start_index, end_index, source_dir, dest_dir):\n",
    "    for i in range(start_index, end_index):\n",
    "        shutil.copy2(os.path.join(source_dir, \"Ivanov.\" + str(i) + \".png\"), \n",
    "                    os.path.join(dest_dir, \"Ivanovs\"))\n",
    "        shutil.copy2(os.path.join(source_dir, \"Petrov.\" + str(i) + \".png\"), \n",
    "                   os.path.join(dest_dir, \"Petrovs\")\n",
    "        shutil.copy2(os.path.join(source_dir, \"Sergeev.\" + str(i) + \".png\"), \n",
    "                    os.path.join(dest_dir, \"Sergeevs\"))"
   ]
  }
 ],
 "metadata": {
  "kernelspec": {
   "display_name": "Python 3",
   "language": "python",
   "name": "python3"
  },
  "language_info": {
   "codemirror_mode": {
    "name": "ipython",
    "version": 3
   },
   "file_extension": ".py",
   "mimetype": "text/x-python",
   "name": "python",
   "nbconvert_exporter": "python",
   "pygments_lexer": "ipython3",
   "version": "3.7.2"
  }
 },
 "nbformat": 4,
 "nbformat_minor": 2
}
