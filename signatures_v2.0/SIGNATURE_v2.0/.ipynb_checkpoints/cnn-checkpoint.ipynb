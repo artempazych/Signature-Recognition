{
 "cells": [
  {
   "cell_type": "code",
   "execution_count": 25,
   "metadata": {},
   "outputs": [],
   "source": [
    "from tensorflow.python.keras.preprocessing.image import ImageDataGenerator\n",
    "from tensorflow.python.keras.models import Sequential\n",
    "from tensorflow.python.keras.layers import Conv2D, MaxPooling2D\n",
    "from tensorflow.python.keras.layers import Activation, Dropout, Flatten, Dense"
   ]
  },
  {
   "cell_type": "code",
   "execution_count": 26,
   "metadata": {},
   "outputs": [],
   "source": [
    "train_dir = 'data/train'\n",
    "val_dir = 'data/val'\n",
    "test_dir = 'data/test'\n",
    "img_width, img_height = 100, 100\n",
    "input_shape = (img_width, img_height, 3)\n",
    "epochs = 12\n",
    "batch_size = 2\n",
    "nb_train_samples = 416\n",
    "nb_validation_samples = 90\n",
    "nb_test_samples = 86"
   ]
  },
  {
   "cell_type": "code",
   "execution_count": 27,
   "metadata": {},
   "outputs": [],
   "source": [
    "model = Sequential()\n",
    "model.add(Conv2D(32, (3, 3), input_shape=input_shape))\n",
    "model.add(Activation('relu'))\n",
    "model.add(MaxPooling2D(pool_size=(2, 2)))\n",
    "\n",
    "model.add(Conv2D(32, (3, 3)))\n",
    "model.add(Activation('relu'))\n",
    "model.add(MaxPooling2D(pool_size=(2, 2)))\n",
    "\n",
    "model.add(Conv2D(64, (3, 3)))\n",
    "model.add(Activation('relu'))\n",
    "model.add(MaxPooling2D(pool_size=(2, 2)))\n",
    "\n",
    "model.add(Flatten())\n",
    "model.add(Dense(64))\n",
    "model.add(Activation('relu'))\n",
    "model.add(Dropout(0.5))\n",
    "model.add(Dense(1))\n",
    "model.add(Activation('sigmoid'))"
   ]
  },
  {
   "cell_type": "code",
   "execution_count": 28,
   "metadata": {},
   "outputs": [],
   "source": [
    "model.compile(loss='binary_crossentropy',\n",
    "              optimizer='adam',\n",
    "              metrics=['accuracy'])"
   ]
  },
  {
   "cell_type": "code",
   "execution_count": 29,
   "metadata": {},
   "outputs": [],
   "source": [
    "datagen = ImageDataGenerator(rescale=1. / 255)"
   ]
  },
  {
   "cell_type": "code",
   "execution_count": 30,
   "metadata": {},
   "outputs": [
    {
     "name": "stdout",
     "output_type": "stream",
     "text": [
      "Found 416 images belonging to 2 classes.\n"
     ]
    }
   ],
   "source": [
    "train_generator = datagen.flow_from_directory(\n",
    "    train_dir,\n",
    "    target_size=(img_width, img_height),\n",
    "    batch_size=batch_size,\n",
    "    class_mode='binary')"
   ]
  },
  {
   "cell_type": "code",
   "execution_count": 31,
   "metadata": {},
   "outputs": [
    {
     "name": "stdout",
     "output_type": "stream",
     "text": [
      "Found 90 images belonging to 2 classes.\n"
     ]
    }
   ],
   "source": [
    "val_generator = datagen.flow_from_directory(\n",
    "    val_dir,\n",
    "    target_size=(img_width, img_height),\n",
    "    batch_size=batch_size,\n",
    "    class_mode='binary')"
   ]
  },
  {
   "cell_type": "code",
   "execution_count": 32,
   "metadata": {},
   "outputs": [
    {
     "name": "stdout",
     "output_type": "stream",
     "text": [
      "Found 86 images belonging to 2 classes.\n"
     ]
    }
   ],
   "source": [
    "test_generator = datagen.flow_from_directory(\n",
    "    test_dir,\n",
    "    target_size=(img_width, img_height),\n",
    "    batch_size=batch_size,\n",
    "    class_mode='binary')"
   ]
  },
  {
   "cell_type": "code",
   "execution_count": 33,
   "metadata": {},
   "outputs": [
    {
     "name": "stdout",
     "output_type": "stream",
     "text": [
      "Epoch 1/12\n",
      "45/45 [==============================] - 0s 5ms/step - loss: 0.7791 - acc: 0.5000\n",
      "208/208 [==============================] - 2s 9ms/step - loss: 0.7051 - acc: 0.5312 - val_loss: 0.7791 - val_acc: 0.5000\n",
      "Epoch 2/12\n",
      "45/45 [==============================] - 0s 3ms/step - loss: 0.6832 - acc: 0.6444\n",
      "208/208 [==============================] - 2s 8ms/step - loss: 0.7007 - acc: 0.5913 - val_loss: 0.6832 - val_acc: 0.6444\n",
      "Epoch 3/12\n",
      "45/45 [==============================] - 0s 3ms/step - loss: 0.3989 - acc: 0.8444\n",
      "208/208 [==============================] - 2s 7ms/step - loss: 0.5750 - acc: 0.7260 - val_loss: 0.3989 - val_acc: 0.8444\n",
      "Epoch 4/12\n",
      "45/45 [==============================] - 0s 4ms/step - loss: 0.2328 - acc: 0.9222\n",
      "208/208 [==============================] - 2s 8ms/step - loss: 0.3749 - acc: 0.8293 - val_loss: 0.2328 - val_acc: 0.9222\n",
      "Epoch 5/12\n",
      "45/45 [==============================] - 0s 3ms/step - loss: 0.0642 - acc: 0.9889\n",
      "208/208 [==============================] - 2s 8ms/step - loss: 0.2305 - acc: 0.9062 - val_loss: 0.0642 - val_acc: 0.9889\n",
      "Epoch 6/12\n",
      "45/45 [==============================] - 0s 3ms/step - loss: 0.1111 - acc: 0.9333\n",
      "208/208 [==============================] - 2s 8ms/step - loss: 0.1779 - acc: 0.9255 - val_loss: 0.1111 - val_acc: 0.9333\n",
      "Epoch 7/12\n",
      "45/45 [==============================] - 0s 3ms/step - loss: 0.0405 - acc: 1.0000\n",
      "208/208 [==============================] - 2s 7ms/step - loss: 0.1787 - acc: 0.9303 - val_loss: 0.0405 - val_acc: 1.0000\n",
      "Epoch 8/12\n",
      "45/45 [==============================] - 0s 3ms/step - loss: 0.0185 - acc: 1.0000\n",
      "208/208 [==============================] - 2s 7ms/step - loss: 0.1095 - acc: 0.9543 - val_loss: 0.0185 - val_acc: 1.0000\n",
      "Epoch 9/12\n",
      "45/45 [==============================] - 0s 4ms/step - loss: 0.0404 - acc: 1.0000\n",
      "208/208 [==============================] - 2s 7ms/step - loss: 0.1103 - acc: 0.9688 - val_loss: 0.0404 - val_acc: 1.0000\n",
      "Epoch 10/12\n",
      "45/45 [==============================] - 0s 3ms/step - loss: 0.0353 - acc: 0.9778\n",
      "208/208 [==============================] - 2s 7ms/step - loss: 0.0625 - acc: 0.9760 - val_loss: 0.0353 - val_acc: 0.9778\n",
      "Epoch 11/12\n",
      "45/45 [==============================] - 0s 3ms/step - loss: 0.0130 - acc: 1.0000\n",
      "208/208 [==============================] - 2s 8ms/step - loss: 0.0660 - acc: 0.9663 - val_loss: 0.0130 - val_acc: 1.0000\n",
      "Epoch 12/12\n",
      "45/45 [==============================] - 0s 3ms/step - loss: 0.0571 - acc: 0.9778\n",
      "208/208 [==============================] - 2s 7ms/step - loss: 0.0734 - acc: 0.9784 - val_loss: 0.0571 - val_acc: 0.9778\n"
     ]
    },
    {
     "data": {
      "text/plain": [
       "<tensorflow.python.keras.callbacks.History at 0x1e3c6163cc0>"
      ]
     },
     "execution_count": 33,
     "metadata": {},
     "output_type": "execute_result"
    }
   ],
   "source": [
    "model.fit_generator(\n",
    "    train_generator,\n",
    "    steps_per_epoch=nb_train_samples // batch_size,\n",
    "    epochs=epochs,\n",
    "    validation_data=val_generator,\n",
    "    validation_steps=nb_validation_samples // batch_size)"
   ]
  },
  {
   "cell_type": "code",
   "execution_count": 34,
   "metadata": {},
   "outputs": [],
   "source": [
    "scores = model.evaluate_generator(test_generator, nb_test_samples // batch_size)"
   ]
  },
  {
   "cell_type": "code",
   "execution_count": 35,
   "metadata": {},
   "outputs": [
    {
     "name": "stdout",
     "output_type": "stream",
     "text": [
      "Точность на тестовых данных: 97.67%\n"
     ]
    }
   ],
   "source": [
    "print(\"Точность на тестовых данных: %.2f%%\" % (scores[1]*100))"
   ]
  },
  {
   "cell_type": "code",
   "execution_count": 36,
   "metadata": {},
   "outputs": [],
   "source": [
    "model_json = model.to_json()\n",
    "\n",
    "json_file = open(\"model.json\", \"w\")\n",
    "json_file.write(model_json)\n",
    "json_file.close()\n",
    "model.save_weights(\"model_weights.h5\")"
   ]
  }
 ],
 "metadata": {
  "kernelspec": {
   "display_name": "Python 3",
   "language": "python",
   "name": "python3"
  },
  "language_info": {
   "codemirror_mode": {
    "name": "ipython",
    "version": 3
   },
   "file_extension": ".py",
   "mimetype": "text/x-python",
   "name": "python",
   "nbconvert_exporter": "python",
   "pygments_lexer": "ipython3",
   "version": "3.7.2"
  }
 },
 "nbformat": 4,
 "nbformat_minor": 2
}
